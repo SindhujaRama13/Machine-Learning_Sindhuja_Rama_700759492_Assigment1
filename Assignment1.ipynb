{
  "nbformat": 4,
  "nbformat_minor": 0,
  "metadata": {
    "colab": {
      "provenance": []
    },
    "kernelspec": {
      "name": "python3",
      "display_name": "Python 3"
    },
    "language_info": {
      "name": "python"
    }
  },
  "cells": [
    {
      "cell_type": "code",
      "execution_count": 1,
      "metadata": {
        "colab": {
          "base_uri": "https://localhost:8080/"
        },
        "id": "1Bem5-eCGOgd",
        "outputId": "62e61769-d7bc-4343-9807-f526c261965b"
      },
      "outputs": [
        {
          "output_type": "stream",
          "name": "stdout",
          "text": [
            "Sorted Ages: [19, 19, 20, 22, 24, 24, 24, 25, 25, 26, 19, 26]\n",
            "Min Age: 19\n",
            "Max Age: 26\n",
            "Median Age: 24.0\n",
            "Average Age: 22.75\n",
            "Age Range: 7\n"
          ]
        }
      ],
      "source": [
        "# List of ages\n",
        "ages = [19, 22, 19, 24, 20, 25, 26, 24, 25, 24]\n",
        "\n",
        "# Sort the list\n",
        "for i in range(len(ages)):\n",
        "    for j in range(len(ages) - 1):\n",
        "        if ages[j] > ages[j + 1]:\n",
        "            ages[j], ages[j + 1] = ages[j + 1], ages[j]\n",
        "\n",
        "# Find min and max age\n",
        "min_age = ages[0]\n",
        "max_age = ages[-1]\n",
        "\n",
        "# Add min and max age again to the list\n",
        "ages.append(min_age)\n",
        "ages.append(max_age)\n",
        "\n",
        "# Find the median age\n",
        "n = len(ages)\n",
        "if n % 2 == 0:\n",
        "    median_age = (ages[n // 2 - 1] + ages[n // 2]) / 2\n",
        "else:\n",
        "    median_age = ages[n // 2]\n",
        "\n",
        "# Find the average age\n",
        "sum_ages = 0\n",
        "for age in ages:\n",
        "    sum_ages += age\n",
        "average_age = sum_ages / len(ages)\n",
        "\n",
        "# Find the range of ages\n",
        "age_range = max_age - min_age\n",
        "\n",
        "# Print results\n",
        "print(\"Sorted Ages:\", ages)\n",
        "print(\"Min Age:\", min_age)\n",
        "print(\"Max Age:\", max_age)\n",
        "print(\"Median Age:\", median_age)\n",
        "print(\"Average Age:\", average_age)\n",
        "print(\"Age Range:\", age_range)\n"
      ]
    },
    {
      "cell_type": "code",
      "source": [
        "# Create an empty dictionary for a dog\n",
        "dog = {}\n",
        "\n",
        "# Add name, color, breed, legs, and age to the dog dictionary\n",
        "dog['name'] = 'Buddy'\n",
        "dog['color'] = 'Brown'\n",
        "dog['breed'] = 'Labrador'\n",
        "dog['legs'] = 4\n",
        "dog['age'] = 3\n",
        "\n",
        "# Create a student dictionary\n",
        "student = {}\n",
        "\n",
        "# Add first_name, last_name, gender, age, marital status, skills, country, city, and address to the student dictionary\n",
        "student['first_name'] = 'John'\n",
        "student['last_name'] = 'Doe'\n",
        "student['gender'] = 'Male'\n",
        "student['age'] = 25\n",
        "student['marital_status'] = 'Single'\n",
        "student['skills'] = ['Python', 'Data Analysis']\n",
        "student['country'] = 'USA'\n",
        "student['city'] = 'New York'\n",
        "student['address'] = '123 Main St'\n",
        "\n",
        "# Get the length of the student dictionary\n",
        "student_dict_length = 0\n",
        "for key in student:\n",
        "    student_dict_length += 1\n",
        "\n",
        "# Get the value of skills and check the data type\n",
        "skills_value = student['skills']\n",
        "skills_data_type = type(skills_value)\n",
        "\n",
        "# Modify the skills values by adding one or two skills\n",
        "skills_value.append('Machine Learning')\n",
        "skills_value.append('Communication')\n",
        "\n",
        "# Get the dictionary keys as a list\n",
        "student_keys = []\n",
        "for key in student:\n",
        "    student_keys.append(key)\n",
        "\n",
        "# Get the dictionary values as a list\n",
        "student_values = []\n",
        "for value in student.values():\n",
        "    student_values.append(value)\n",
        "\n",
        "# Printing the results\n",
        "print(\"Dog Dictionary:\", dog)\n",
        "print(\"Student Dictionary:\", student)\n",
        "print(\"Length of Student Dictionary:\", student_dict_length)\n",
        "print(\"Data Type of Skills:\", skills_data_type)\n",
        "print(\"Modified Skills:\", skills_value)\n",
        "print(\"Keys of Student Dictionary:\", student_keys)\n",
        "print(\"Values of Student Dictionary:\", student_values)\n",
        "\n"
      ],
      "metadata": {
        "colab": {
          "base_uri": "https://localhost:8080/"
        },
        "id": "auUUrqhSGjQH",
        "outputId": "ed0bfa82-ed75-4df8-b003-e82cbf948beb"
      },
      "execution_count": 2,
      "outputs": [
        {
          "output_type": "stream",
          "name": "stdout",
          "text": [
            "Dog Dictionary: {'name': 'Buddy', 'color': 'Brown', 'breed': 'Labrador', 'legs': 4, 'age': 3}\n",
            "Student Dictionary: {'first_name': 'John', 'last_name': 'Doe', 'gender': 'Male', 'age': 25, 'marital_status': 'Single', 'skills': ['Python', 'Data Analysis', 'Machine Learning', 'Communication'], 'country': 'USA', 'city': 'New York', 'address': '123 Main St'}\n",
            "Length of Student Dictionary: 9\n",
            "Data Type of Skills: <class 'list'>\n",
            "Modified Skills: ['Python', 'Data Analysis', 'Machine Learning', 'Communication']\n",
            "Keys of Student Dictionary: ['first_name', 'last_name', 'gender', 'age', 'marital_status', 'skills', 'country', 'city', 'address']\n",
            "Values of Student Dictionary: ['John', 'Doe', 'Male', 25, 'Single', ['Python', 'Data Analysis', 'Machine Learning', 'Communication'], 'USA', 'New York', '123 Main St']\n"
          ]
        }
      ]
    },
    {
      "cell_type": "code",
      "source": [
        "# Create a tuple containing names of sisters and brothers\n",
        "sisters = ('Alice', 'Emma')\n",
        "brothers = ('James', 'William', 'Henry')\n",
        "\n",
        "# Join brothers and sisters tuples and assign it to siblings\n",
        "siblings = brothers + sisters\n",
        "\n",
        "# Count the number of siblings\n",
        "num_siblings = 0\n",
        "for _ in siblings:\n",
        "    num_siblings += 1\n",
        "\n",
        "# Modify the siblings tuple and add the name of your father and mother\n",
        "father = 'John'\n",
        "mother = 'Emily'\n",
        "family_members = siblings + (father, mother)\n",
        "\n",
        "# Printing the results\n",
        "print(\"Siblings:\", siblings)\n",
        "print(\"Number of Siblings:\", num_siblings)\n",
        "print(\"Family Members:\", family_members)\n",
        "\n"
      ],
      "metadata": {
        "colab": {
          "base_uri": "https://localhost:8080/"
        },
        "id": "t1JwoOJHG05d",
        "outputId": "a97230be-9b4d-4b37-c3ce-ceed349531ef"
      },
      "execution_count": 3,
      "outputs": [
        {
          "output_type": "stream",
          "name": "stdout",
          "text": [
            "Siblings: ('James', 'William', 'Henry', 'Alice', 'Emma')\n",
            "Number of Siblings: 5\n",
            "Family Members: ('James', 'William', 'Henry', 'Alice', 'Emma', 'John', 'Emily')\n"
          ]
        }
      ]
    },
    {
      "cell_type": "code",
      "source": [
        "# Given data\n",
        "it_companies = {'Facebook', 'Google', 'Microsoft', 'Apple', 'IBM', 'Oracle', 'Amazon'}\n",
        "A = {19, 22, 24, 20, 25, 26}\n",
        "B = {19, 22, 20, 25, 26, 24, 28, 27}\n",
        "age = [22, 19, 24, 25, 26, 24, 25, 24]\n",
        "\n",
        "# Find the length of the set it_companies\n",
        "it_companies_length = len(it_companies)\n",
        "\n",
        "# Add 'Twitter' to it_companies\n",
        "it_companies.add('Twitter')\n",
        "\n",
        "# Insert multiple IT companies at once to the set it_companies\n",
        "it_companies.update(['LinkedIn', 'Uber', 'Airbnb'])\n",
        "\n",
        "# Remove one of the companies from the set it_companies\n",
        "it_companies.discard('IBM')  # We use discard to avoid raising an error if the element is not present\n",
        "\n",
        "# Difference between remove and discard:\n",
        "# Remove raises KeyError if the element is not present, while discard doesn't raise any error.\n",
        "\n",
        "# Join A and B\n",
        "A_union_B = A.union(B)\n",
        "\n",
        "# Find A intersection B\n",
        "A_intersection_B = A.intersection(B)\n",
        "\n",
        "# Check if A is a subset of B\n",
        "A_subset_of_B = A.issubset(B)\n",
        "\n",
        "# Check if A and B are disjoint sets\n",
        "A_B_disjoint = A.isdisjoint(B)\n",
        "\n",
        "# Join A with B and B with A\n",
        "A_with_B = A.union(B)\n",
        "B_with_A = B.union(A)\n",
        "\n",
        "# Find the symmetric difference between A and B\n",
        "symmetric_difference_A_B = A.symmetric_difference(B)\n",
        "\n",
        "# Convert the ages to a set and compare the length of the list and the set\n",
        "age_set = set(age)\n",
        "age_comparison_length = len(age) - len(age_set)\n",
        "\n",
        "# Delete the sets completely\n",
        "del it_companies\n",
        "del A\n",
        "del B\n",
        "\n",
        "# Printing the results\n",
        "print(\"Length of it_companies:\", it_companies_length)\n",
        "print(\"A union B:\", A_union_B)\n",
        "print(\"A intersection B:\", A_intersection_B)\n",
        "print(\"Is A subset of B:\", A_subset_of_B)\n",
        "print(\"Are A and B disjoint sets:\", A_B_disjoint)\n",
        "print(\"A with B:\", A_with_B)\n",
        "print(\"B with A:\", B_with_A)\n",
        "print(\"Symmetric difference between A and B:\", symmetric_difference_A_B)\n",
        "print(\"Length comparison between list and set of ages:\", age_comparison_length)\n",
        "\n"
      ],
      "metadata": {
        "colab": {
          "base_uri": "https://localhost:8080/"
        },
        "id": "uU4OjSUlHLcu",
        "outputId": "4d9a4b0b-3903-42c6-d65b-4c8008f64872"
      },
      "execution_count": 4,
      "outputs": [
        {
          "output_type": "stream",
          "name": "stdout",
          "text": [
            "Length of it_companies: 7\n",
            "A union B: {19, 20, 22, 24, 25, 26, 27, 28}\n",
            "A intersection B: {19, 20, 22, 24, 25, 26}\n",
            "Is A subset of B: True\n",
            "Are A and B disjoint sets: False\n",
            "A with B: {19, 20, 22, 24, 25, 26, 27, 28}\n",
            "B with A: {19, 20, 22, 24, 25, 26, 27, 28}\n",
            "Symmetric difference between A and B: {27, 28}\n",
            "Length comparison between list and set of ages: 3\n"
          ]
        }
      ]
    },
    {
      "cell_type": "code",
      "source": [
        "# Radius of the circle\n",
        "radius = 30\n",
        "\n",
        "# Calculate the area of the circle\n",
        "area_of_circle = 3.14 * radius ** 2\n",
        "\n",
        "# Calculate the circumference of the circle\n",
        "circum_of_circle = 2 * 3.14 * radius\n",
        "\n",
        "print(\"Area of the circle:\", area_of_circle)\n",
        "print(\"Circumference of the circle:\", circum_of_circle)\n",
        "\n",
        "# Take radius as user input and calculate the area\n",
        "user_radius = float(input(\"Enter the radius of the circle: \"))\n",
        "user_area_of_circle = 3.14 * user_radius ** 2\n",
        "print(\"Area of the circle with radius\", user_radius, \"is\", user_area_of_circle)\n"
      ],
      "metadata": {
        "colab": {
          "base_uri": "https://localhost:8080/"
        },
        "id": "TN0f95y1Hc0f",
        "outputId": "66a18745-40d1-4a2f-ac6f-ddfd25cc05b8"
      },
      "execution_count": 11,
      "outputs": [
        {
          "output_type": "stream",
          "name": "stdout",
          "text": [
            "Area of the circle: 2826.0\n",
            "Circumference of the circle: 188.4\n",
            "Enter the radius of the circle: 6\n",
            "Area of the circle with radius 6.0 is 113.04\n"
          ]
        }
      ]
    },
    {
      "cell_type": "code",
      "source": [
        "# Given sentence\n",
        "sentence = \"I am a teacher and I love to inspire and teach people\"\n",
        "\n",
        "# Split the sentence into words\n",
        "words = sentence.split()\n",
        "\n",
        "# Use a set to get unique words\n",
        "unique_words = set(words)\n",
        "\n",
        "# Calculate the number of unique words\n",
        "num_unique_words = len(unique_words)\n",
        "\n",
        "print(\"Number of unique words:\", num_unique_words)\n"
      ],
      "metadata": {
        "colab": {
          "base_uri": "https://localhost:8080/"
        },
        "id": "iF907dkrH1z9",
        "outputId": "33b66462-2a73-47e8-f33c-b75016a4d86c"
      },
      "execution_count": 6,
      "outputs": [
        {
          "output_type": "stream",
          "name": "stdout",
          "text": [
            "Number of unique words: 10\n"
          ]
        }
      ]
    },
    {
      "cell_type": "code",
      "source": [
        "print(\"Name\\tAge\\tCountry\\tCity\")\n",
        "print(\"Asabeneh\\t250\\tFinland\\tHelsinki\")\n",
        "\n"
      ],
      "metadata": {
        "colab": {
          "base_uri": "https://localhost:8080/"
        },
        "id": "Cny7pH7DHqm1",
        "outputId": "c0b8e69a-8579-411e-d8cd-5238e72e5ec6"
      },
      "execution_count": 8,
      "outputs": [
        {
          "output_type": "stream",
          "name": "stdout",
          "text": [
            "Name\tAge\tCountry\tCity\n",
            "Asabeneh\t250\tFinland\tHelsinki\n"
          ]
        }
      ]
    },
    {
      "cell_type": "code",
      "source": [
        "radius = 10\n",
        "area = 3.14 * radius ** 2\n",
        "\n",
        "print(f\"The area of a circle with radius {radius} is {area} meters square.\")\n"
      ],
      "metadata": {
        "colab": {
          "base_uri": "https://localhost:8080/"
        },
        "id": "cuXyZ5lDIODJ",
        "outputId": "67e2d496-f3c3-4167-b907-a2ca8f028bd5"
      },
      "execution_count": 9,
      "outputs": [
        {
          "output_type": "stream",
          "name": "stdout",
          "text": [
            "The area of a circle with radius 10 is 314.0 meters square.\n"
          ]
        }
      ]
    },
    {
      "cell_type": "code",
      "source": [
        "# Read the number of students from the user\n",
        "N = int(input(\"Enter the number of students: \"))\n",
        "# Initialize an empty list to store weights in pounds\n",
        "weights_lbs = []\n",
        "# Read weights of N students into the list\n",
        "for i in range(N):\n",
        "    weight = float(input(f\"Enter weight of student {i+1} in lbs: \"))\n",
        "    weights_lbs.append(weight)\n",
        "# Convert weights from pounds to kilograms and store in a separate list\n",
        "weights_kg = []\n",
        "for weight_lbs in weights_lbs:\n",
        "    weight_kg = weight_lbs * 0.453592  # 1 pound = 0.453592 kilograms\n",
        "    weights_kg.append(round(weight_kg, 2))  # Round to 2 decimal places\n",
        "print(\"Weights in kilograms:\", weights_kg)\n"
      ],
      "metadata": {
        "colab": {
          "base_uri": "https://localhost:8080/"
        },
        "id": "CEnHj3cUIZP0",
        "outputId": "a5918cfa-b2ac-4d7c-b7df-dbea557b0041"
      },
      "execution_count": 10,
      "outputs": [
        {
          "output_type": "stream",
          "name": "stdout",
          "text": [
            "Enter the number of students: 3\n",
            "Enter weight of student 1 in lbs: 134\n",
            "Enter weight of student 2 in lbs: 231\n",
            "Enter weight of student 3 in lbs: 122\n",
            "Weights in kilograms: [60.78, 104.78, 55.34]\n"
          ]
        }
      ]
    }
  ]
}